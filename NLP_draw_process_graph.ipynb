{
  "nbformat": 4,
  "nbformat_minor": 0,
  "metadata": {
    "colab": {
      "provenance": []
    },
    "kernelspec": {
      "name": "python3",
      "display_name": "Python 3"
    },
    "language_info": {
      "name": "python"
    }
  },
  "cells": [
    {
      "cell_type": "code",
      "execution_count": 29,
      "metadata": {
        "colab": {
          "base_uri": "https://localhost:8080/",
          "height": 254
        },
        "id": "BgX7sp4Yw3ek",
        "outputId": "11a131aa-53b0-4abd-cf7b-6843d8cbe7c2"
      },
      "outputs": [
        {
          "output_type": "display_data",
          "data": {
            "text/html": [
              "<img src=\"https://mermaid.ink/img/CmdyYXBoIExSOwogICAgZGF0YV9wcm9jZXNzaW5nIC0tPiBFREEgLS0+IGFsZ29yaXRobXM7CiAgICBhbGdvcml0aG1zIC0tPiBiYXNlbGluZSAtLT4gcmFuZG9tX3NhbXBsaW5nOwogICAgYWxnb3JpdGhtcyAtLT4gVkFERVIgLS0+IHJhbmRvbV9zYW1wbGluZzsKICAgIGFsZ29yaXRobXMgLS0+IFRleHRfYmxvYiAtLT4gcmFuZG9tX3NhbXBsaW5nOwogICAgcmFuZG9tX3NhbXBsaW5nIC0tPiBhbm5vdGF0aW9uX2V4cGVydF8xIC0tPiBncm91bmRfdHJ1dGhfbGFiZWxfd19tYWpvcml0eV92b3Rpbmc7CiAgICByYW5kb21fc2FtcGxpbmcgLS0+IGFubm90YXRpb25fZXhwZXJ0XzIgLS0+IGdyb3VuZF90cnV0aF9sYWJlbF93X21ham9yaXR5X3ZvdGluZzsKICAgIHJhbmRvbV9zYW1wbGluZyAtLT4gYW5ub3RhdGlvbl9leHBlcnRfMyAtLT4gZ3JvdW5kX3RydXRoX2xhYmVsX3dfbWFqb3JpdHlfdm90aW5nOwogICAgZ3JvdW5kX3RydXRoX2xhYmVsX3dfbWFqb3JpdHlfdm90aW5nIC0tPiBldmFsdWF0aW9uIC0tPiB3b3JkX2Nsb3VkczsK\"/>"
            ],
            "text/plain": [
              "<IPython.core.display.Image object>"
            ]
          },
          "metadata": {}
        }
      ],
      "source": [
        "import base64\n",
        "from IPython.display import Image, display\n",
        "import matplotlib.pyplot as plt\n",
        "\n",
        "def mm(graph):\n",
        "  graphbytes = graph.encode(\"ascii\")\n",
        "  base64_bytes = base64.b64encode(graphbytes)\n",
        "  base64_string = base64_bytes.decode(\"ascii\")\n",
        "  display(Image(url=\"https://mermaid.ink/img/\" + base64_string))\n",
        "\n",
        "mm(\"\"\"\n",
        "graph LR;\n",
        "    data_processing --> EDA --> algorithms;\n",
        "    algorithms --> baseline --> random_sampling;\n",
        "    algorithms --> VADER --> random_sampling;\n",
        "    algorithms --> Text_blob --> random_sampling;\n",
        "    random_sampling --> annotation_expert_1 --> ground_truth_label_w_majority_voting;\n",
        "    random_sampling --> annotation_expert_2 --> ground_truth_label_w_majority_voting;\n",
        "    random_sampling --> annotation_expert_3 --> ground_truth_label_w_majority_voting;\n",
        "    ground_truth_label_w_majority_voting --> evaluation --> word_clouds;\n",
        "\"\"\")"
      ]
    }
  ]
}